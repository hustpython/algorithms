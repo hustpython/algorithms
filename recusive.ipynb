{
 "cells": [
  {
   "cell_type": "markdown",
   "metadata": {},
   "source": [
    "### 递归 recursive\n",
    "- 斐波那契数列指的是这样一个数列 1, 1, 2, 3, 5, 8, 13, 21, 34,...\n",
    "- 用递归实现斐波拉契函数\n"
   ]
  },
  {
   "cell_type": "code",
   "execution_count": 21,
   "metadata": {},
   "outputs": [
    {
     "name": "stdout",
     "output_type": "stream",
     "text": [
      "1\n",
      "('concat ', 1.8905558586120605, 'milliseconds')\n"
     ]
    }
   ],
   "source": [
    "import timeit\n",
    "\n",
    "def Fibonacci(n):\n",
    "    if n <= 1:\n",
    "       return n\n",
    "    else:\n",
    "       return(Fibonacci(n-1) + Fibonacci(n-2))\n",
    "print(Fibonacci(2))    \n",
    "t1 = timeit.Timer(\"Fibonacci(20)\", \"from __main__ import Fibonacci\")\n",
    "print(\"concat \",t1.timeit(number=1000), \"milliseconds\")\n"
   ]
  },
  {
   "cell_type": "markdown",
   "metadata": {},
   "source": [
    "### 非递归实现\n"
   ]
  },
  {
   "cell_type": "code",
   "execution_count": 34,
   "metadata": {},
   "outputs": [
    {
     "name": "stdout",
     "output_type": "stream",
     "text": [
      "('concat ', 0.022933006286621094, 'milliseconds')\n"
     ]
    }
   ],
   "source": [
    "import timeit\n",
    "\n",
    "def Fibonacci(n):\n",
    "   if n <= 1:\n",
    "       return n\n",
    "    \n",
    "   fibMinusOne = 1\n",
    "   fibMinusTwo = 0\n",
    "   fibN = 0\n",
    "   for i in range(1,n):\n",
    "       fibN = fibMinusOne + fibMinusTwo\n",
    "       fibMinusTwo = fibMinusOne\n",
    "       fibMinusOne = fibN\n",
    "   return fibN\n",
    "#print(Fibonacci(300)) \n",
    "t1 = timeit.Timer(\"Fibonacci(300)\", \"from __main__ import Fibonacci\")\n",
    "print(\"concat \",t1.timeit(number=1000), \"milliseconds\")"
   ]
  },
  {
   "cell_type": "code",
   "execution_count": null,
   "metadata": {
    "collapsed": true
   },
   "outputs": [],
   "source": []
  }
 ],
 "metadata": {
  "kernelspec": {
   "display_name": "Python 2",
   "language": "python",
   "name": "python2"
  },
  "language_info": {
   "codemirror_mode": {
    "name": "ipython",
    "version": 2
   },
   "file_extension": ".py",
   "mimetype": "text/x-python",
   "name": "python",
   "nbconvert_exporter": "python",
   "pygments_lexer": "ipython2",
   "version": "2.7.14"
  }
 },
 "nbformat": 4,
 "nbformat_minor": 2
}
