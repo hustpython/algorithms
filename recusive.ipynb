{
 "cells": [
  {
   "cell_type": "markdown",
   "metadata": {},
   "source": [
    "### 递归 recursive\n",
    "- 斐波那契数列指的是这样一个数列 1, 1, 2, 3, 5, 8, 13, 21, 34,...\n",
    "- 用递归实现斐波拉契函数\n",
    "- 时间复杂度 $O(2^N)$\n"
   ]
  },
  {
   "cell_type": "code",
   "execution_count": 21,
   "metadata": {},
   "outputs": [
    {
     "name": "stdout",
     "output_type": "stream",
     "text": [
      "1\n",
      "('concat ', 1.8905558586120605, 'milliseconds')\n"
     ]
    }
   ],
   "source": [
    "import timeit\n",
    "\n",
    "def Fibonacci(n):\n",
    "    if n <= 1:\n",
    "       return n\n",
    "    else:\n",
    "       return(Fibonacci(n-1) + Fibonacci(n-2))\n",
    "print(Fibonacci(2))    \n",
    "t1 = timeit.Timer(\"Fibonacci(20)\", \"from __main__ import Fibonacci\")\n",
    "print(\"concat \",t1.timeit(number=1000), \"milliseconds\")\n"
   ]
  },
  {
   "cell_type": "markdown",
   "metadata": {},
   "source": [
    "### 非递归实现\n",
    "- 很显然用递归实现斐波拉契数列时，会因为重复计算了很多数，\n",
    "  导致时间复杂度特别大。\n",
    "- 非递归方式则采用从底向上求解。复杂度为$O(N)$"
   ]
  },
  {
   "cell_type": "code",
   "execution_count": 34,
   "metadata": {},
   "outputs": [
    {
     "name": "stdout",
     "output_type": "stream",
     "text": [
      "('concat ', 0.022933006286621094, 'milliseconds')\n"
     ]
    }
   ],
   "source": [
    "import timeit\n",
    "\n",
    "def Fibonacci(n):\n",
    "   if n <= 1:\n",
    "       return n\n",
    "    \n",
    "   fibMinusOne = 1\n",
    "   fibMinusTwo = 0\n",
    "   fibN = 0\n",
    "   for i in range(1,n):\n",
    "       fibN = fibMinusOne + fibMinusTwo\n",
    "       fibMinusTwo = fibMinusOne\n",
    "       fibMinusOne = fibN\n",
    "   return fibN\n",
    "#print(Fibonacci(300)) \n",
    "t1 = timeit.Timer(\"Fibonacci(300)\", \"from __main__ import Fibonacci\")\n",
    "print(\"concat \",t1.timeit(number=1000), \"milliseconds\")"
   ]
  },
  {
   "cell_type": "markdown",
   "metadata": {},
   "source": [
    "### 青蛙跳台阶问题\n",
    "一只青蛙一次可以跳上一一级台1阶，也可以上2级台阶。求该青蛙跳上一个n级台阶总共有多少种跳法。\n"
   ]
  },
  {
   "cell_type": "markdown",
   "metadata": {},
   "source": [
    "### 青蛙问题升级\n",
    "条件改成一只青蛙一次可以跳上1级台阶，也可以跳上2级台阶...它也可以跳上n级，此时该青蛙跳上一个n级台阶总共有多少种跳法？\n",
    "我们用数学归纳法可以证明$f(n)=2^{n-1}$\n"
   ]
  },
  {
   "cell_type": "markdown",
   "metadata": {},
   "source": [
    "### Q1\n",
    "我们可以用$2×1$的小矩阵横着或者竖着去覆盖更大的矩形。请问用8个$2× 1$无重叠地去覆盖一个$2×8$的大矩形。总共有多少方法？"
   ]
  }
 ],
 "metadata": {
  "kernelspec": {
   "display_name": "Python 2",
   "language": "python",
   "name": "python2"
  },
  "language_info": {
   "codemirror_mode": {
    "name": "ipython",
    "version": 2
   },
   "file_extension": ".py",
   "mimetype": "text/x-python",
   "name": "python",
   "nbconvert_exporter": "python",
   "pygments_lexer": "ipython2",
   "version": "2.7.14"
  }
 },
 "nbformat": 4,
 "nbformat_minor": 2
}
