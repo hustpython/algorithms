{
 "cells": [
  {
   "cell_type": "markdown",
   "metadata": {},
   "source": [
    "### Trees\n",
    "- The first property this example demonstrates is that trees are hierarchical(分级).\n",
    "  <img src=\"./images/biology.png\" width = \"300\" height = \"100\" alt=\"树的分级\" align=center />\n",
    "- A second property of trees is that all of the children of one node are independent of the children of another node.树的第二个属性是一个节点的所有孩子都独立于另一个节点的孩子。\n",
    "- A third property is that each leaf node is unique.第三个属性是每个叶子节点是唯一的。\n",
    "\n",
    "- Another important property of trees, derived from their hierarchical nature, is that you can move entire sections of a tree (called a subtree) to a different position in the tree without affecting the lower levels of the hierarchy.\n",
    " 树的另一个重要属性是从层次结构中派生出来的，你可以将树的所有部分（称为子树）移动到树中的不同位置，而不会影响层次结构的较低层次。\n",
    "### 树的定义\n",
    "#### 定义一：树是有节点和连接节点的边组成。\n",
    "- 树的一个节点被指定为根节点。\n",
    "- 除了根节点之外，每个节点n由一个来自另一个节点p的边连接，其中p是n的父节点。\n",
    "- 一条独特的路径从根到达每个节点。\n",
    "- 如果树中的每个节点最多有两个孩子，我们就说树是二叉树。\n",
    "#### 定义二：树是空的，或者由一个根和零个或更多的子树组成，每个子树也是一棵树。每个子树的根由一个边连接到父树的根。"
   ]
  },
  {
   "cell_type": "markdown",
   "metadata": {},
   "source": [
    "#### 用列表表示树\n",
    "<img src=\"./images/smalltree.png\" width = \"100\" height = \"100\" alt=\"树的分级\" align=center />"
   ]
  },
  {
   "cell_type": "code",
   "execution_count": 2,
   "metadata": {
    "collapsed": false
   },
   "outputs": [
    {
     "name": "stdout",
     "output_type": "stream",
     "text": [
      "['a', ['b', ['d', [], []], ['e', [], []]], ['c', ['f', [], []], []]]\n",
      "('left subtree = ', ['b', ['d', [], []], ['e', [], []]])\n",
      "('root = ', 'a')\n",
      "('right subtree = ', ['c', ['f', [], []], []])\n"
     ]
    }
   ],
   "source": [
    "myTree = ['a',   #root\n",
    "      ['b',  #left subtree\n",
    "       ['d', [], []],\n",
    "       ['e', [], []] ],\n",
    "      ['c',  #right subtree\n",
    "       ['f', [], []],\n",
    "       [] ]\n",
    "     ]\n",
    "#myTree = ['a', ['b', ['d',[],[]], ['e',[],[]] ], ['c', ['f',[],[]], []] ]\n",
    "print(myTree)\n",
    "print('left subtree = ', myTree[1])\n",
    "print('root = ', myTree[0])\n",
    "print('right subtree = ', myTree[2])"
   ]
  },
  {
   "cell_type": "markdown",
   "metadata": {},
   "source": [
    "### 关于二叉树的一些操作"
   ]
  },
  {
   "cell_type": "code",
   "execution_count": 21,
   "metadata": {
    "collapsed": false
   },
   "outputs": [
    {
     "name": "stdout",
     "output_type": "stream",
     "text": [
      "[3, [], []]\n",
      "[3, [9, [4, [], []], []], [7, [], [6, [], []]]]\n",
      "[3, [9, [11, [4, [], []], []], []], [7, [], [6, [], []]]]\n",
      "[6, [], []]\n"
     ]
    }
   ],
   "source": [
    "#定义一个二叉树\n",
    "def BinaryTree(r):\n",
    "    return [r, [], []]\n",
    "#左插入操作\n",
    "def insertLeft(root,newBranch):\n",
    "    #根据前面的列表表示方式，根下面的左子树位在列表的索引为1\n",
    "    t = root.pop(1)\n",
    "    if len(t) > 1:#如果t的长度大于1表示t下面有子树。\n",
    "                  #则我们应该在将newBranch放在t的父级。\n",
    "        root.insert(1,[newBranch,t,[]])\n",
    "    else:\n",
    "        root.insert(1,[newBranch,[],[]])\n",
    "    return root\n",
    "#右插入操作\n",
    "def insertRight(root,newBranch):\n",
    "    #根据前面的列表表示方式，根下面的左子树位在列表的索引为2\n",
    "    t = root.pop(2)\n",
    "    if len(t) > 1:\n",
    "        root.insert(2,[newBranch,[],t])\n",
    "    else:\n",
    "        root.insert(2,[newBranch,[],[]])\n",
    "    return root\n",
    "\n",
    "def getRooval(root):\n",
    "    return root[0]\n",
    "\n",
    "def setRootVal(root,newVal):\n",
    "    root[0] = newVal\n",
    "\n",
    "def getLeftchild(root):\n",
    "    return root[1]\n",
    "\n",
    "def getRightchild(root):\n",
    "    return root[2]\n",
    "r = BinaryTree(3)\n",
    "print(r)\n",
    "insertLeft(r,4)\n",
    "insertLeft(r,5)\n",
    "insertRight(r,6)\n",
    "insertRight(r,7)\n",
    "l = getLeftchild(r)\n",
    "setRootVal(l,9)\n",
    "print(r)\n",
    "insertLeft(l,11)\n",
    "print(r)\n",
    "print(getRightchild(getRightchild(r)))"
   ]
  },
  {
   "cell_type": "markdown",
   "metadata": {},
   "source": [
    "### Nodes and References   面向对象的表述方式"
   ]
  },
  {
   "cell_type": "code",
   "execution_count": 1,
   "metadata": {
    "collapsed": false
   },
   "outputs": [
    {
     "name": "stdout",
     "output_type": "stream",
     "text": [
      "a\n",
      "None\n",
      "<__main__.BinaryTree object at 0x7f8df0fc8dd8>\n",
      "b\n",
      "<__main__.BinaryTree object at 0x7f8df0fc8e10>\n",
      "c\n",
      "hello\n"
     ]
    }
   ],
   "source": [
    "class BinaryTree:\n",
    "    def __init__(self,rootObj):\n",
    "        self.key = rootObj\n",
    "        self.leftChild = None\n",
    "        self.rightChild = None\n",
    "\n",
    "    def insertLeft(self,newNode):\n",
    "        if self.leftChild == None:\n",
    "            self.leftChild = BinaryTree(newNode)\n",
    "        else:\n",
    "            t = BinaryTree(newNode)\n",
    "            t.leftChild = self.leftChild\n",
    "            self.leftChild = t\n",
    "\n",
    "    def insertRight(self,newNode):\n",
    "        if self.rightChild == None:\n",
    "            #如果为空，则将newNode插入作为其左子树cd\n",
    "            self.rightChild = BinaryTree(newNode)\n",
    "        else:\n",
    "            #如果选择的树不为空，则插入的子树，为其的父辈\n",
    "            t = BinaryTree(newNode)\n",
    "            t.rightChild = self.rightChild\n",
    "            self.rightChild = t\n",
    "\n",
    "\n",
    "    def getRightChild(self):\n",
    "        return self.rightChild\n",
    "\n",
    "    def getLeftChild(self):\n",
    "        return self.leftChild\n",
    "\n",
    "    def setRootVal(self,obj):\n",
    "        self.key = obj\n",
    "\n",
    "    def getRootVal(self):\n",
    "        return self.key\n",
    "\n",
    "\n",
    "r = BinaryTree('a')\n",
    "print(r.getRootVal())\n",
    "print(r.getLeftChild())\n",
    "r.insertLeft('b')\n",
    "print(r.getLeftChild())\n",
    "print(r.getLeftChild().getRootVal())\n",
    "r.insertRight('c')\n",
    "print(r.getRightChild())\n",
    "print(r.getRightChild().getRootVal())\n",
    "r.getRightChild().setRootVal('hello')\n",
    "print(r.getRightChild().getRootVal())\n"
   ]
  },
  {
   "cell_type": "markdown",
   "metadata": {},
   "source": [
    "### Sparse Tree 分析树\n",
    "- 语句语法分析\n",
    "- 数学表达式的建立\n"
   ]
  },
  {
   "cell_type": "markdown",
   "metadata": {},
   "source": [
    "### Tree Traversals 树的遍历\n",
    "- preorder\n",
    "  - 先浏览根节点，然后是左子树，最后是右子树\n",
    "- inorder\n",
    "  - 先浏览左子树的节点，然后是根节点，最后是右子树节点\n",
    "- postorder\n",
    "  - 先浏览右子树节点，然后是左子树节点，最后是根节点\n",
    " \n",
    "如图所示，是一本数的二叉树图。\n",
    "\n",
    "![](./images/booktree.png)\n"
   ]
  },
  {
   "cell_type": "markdown",
   "metadata": {},
   "source": [
    "- 按照先序遍历，我们的顺序应该是：\n",
    "\n",
    "Book ->Chapter1->Section1.1->Section1.2->Section1.2.1->Section1.2.2->Chapter2->Section2.1->Section2.2->Section2.2.1->Section2.2.2"
   ]
  },
  {
   "cell_type": "code",
   "execution_count": 13,
   "metadata": {
    "collapsed": false
   },
   "outputs": [],
   "source": [
    "#使用递归法构建以上二叉树\n",
    "preorder = [\n",
    "'book',\n",
    "'1',\n",
    "'1.1',\n",
    "'1.2',\n",
    "'1.2.1',\n",
    "'1.2.2',\n",
    "'2',\n",
    "'2.1',\n",
    "'2.2',\n",
    "'2.2.1',\n",
    "'2.2.2'\n",
    "]\n",
    "inorder = [\n",
    "'1.1',\n",
    "'1',\n",
    "'1.2.1',\n",
    "'1.2',\n",
    "'1.2.2',\n",
    "'book',\n",
    "'2.1',\n",
    "'2',\n",
    "'2.2.1',\n",
    "'2.2',\n",
    "'2.2.2'\n",
    "]\n",
    "\n",
    "def buildTree(preorder, inorder):\n",
    "        \"\"\"\n",
    "        :type preorder: List[int]\n",
    "        :type inorder: List[int]\n",
    "        :rtype: TreeNode\n",
    "        \"\"\"\n",
    "        if inorder:\n",
    "            ind = inorder.index(preorder.pop(0))\n",
    "            root = BinaryTree(inorder[ind])\n",
    "            root.leftChild = buildTree(preorder,inorder[0:ind])\n",
    "            root.rightChild = buildTree(preorder,inorder[ind+1:])\n",
    "            return root\n",
    "book = buildTree(preorder,inorder)   \n"
   ]
  },
  {
   "cell_type": "code",
   "execution_count": 193,
   "metadata": {
    "collapsed": true
   },
   "outputs": [],
   "source": [
    "#手动构建以上二叉树：\n",
    "book = BinaryTree('book')\n",
    "book.insertLeft('1')\n",
    "book.insertRight('2')\n",
    "book.getLeftChild().insertLeft('1.1')\n",
    "book.getLeftChild().insertRight('1.2')\n",
    "book.getLeftChild().getRightChild().insertLeft('1.2.1')\n",
    "book.getLeftChild().getRightChild().insertRight('1.2.2')\n",
    "book.getRightChild().insertLeft('2.1')\n",
    "book.getRightChild().insertRight('2.2')\n",
    "book.getRightChild().getRightChild().insertLeft('2.2.1')\n",
    "book.getRightChild().getRightChild().insertRight('2.2.2')"
   ]
  },
  {
   "cell_type": "code",
   "execution_count": 14,
   "metadata": {
    "collapsed": false,
    "scrolled": true
   },
   "outputs": [
    {
     "name": "stdout",
     "output_type": "stream",
     "text": [
      "book\n",
      "1\n",
      "1.1\n",
      "1.2\n",
      "1.2.1\n",
      "1.2.2\n",
      "2\n",
      "2.1\n",
      "2.2\n",
      "2.2.1\n",
      "2.2.2\n"
     ]
    }
   ],
   "source": [
    "def preorder(tree):\n",
    "    if tree:\n",
    "        print(tree.getRootVal())\n",
    "        preorder(tree.getLeftChild())\n",
    "        preorder(tree.getRightChild())\n",
    "preorder(book)"
   ]
  },
  {
   "cell_type": "code",
   "execution_count": 15,
   "metadata": {
    "collapsed": false
   },
   "outputs": [
    {
     "name": "stdout",
     "output_type": "stream",
     "text": [
      "1.1\n",
      "1\n",
      "1.2.1\n",
      "1.2\n",
      "1.2.2\n",
      "book\n",
      "2.1\n",
      "2\n",
      "2.2.1\n",
      "2.2\n",
      "2.2.2\n"
     ]
    }
   ],
   "source": [
    "def inorder(tree):\n",
    "  if tree != None:\n",
    "      inorder(tree.getLeftChild())\n",
    "      print(tree.getRootVal())\n",
    "      inorder(tree.getRightChild())\n",
    "inorder(book)"
   ]
  },
  {
   "cell_type": "code",
   "execution_count": 16,
   "metadata": {
    "collapsed": false
   },
   "outputs": [
    {
     "name": "stdout",
     "output_type": "stream",
     "text": [
      "1.1\n",
      "1.2.1\n",
      "1.2.2\n",
      "1.2\n",
      "1\n",
      "2.1\n",
      "2.2.1\n",
      "2.2.2\n",
      "2.2\n",
      "2\n",
      "book\n"
     ]
    }
   ],
   "source": [
    "def postorder(tree):\n",
    "    if tree != None:\n",
    "        postorder(tree.getLeftChild())\n",
    "        postorder(tree.getRightChild())\n",
    "        print(tree.getRootVal())\n",
    "postorder(book)"
   ]
  },
  {
   "cell_type": "markdown",
   "metadata": {},
   "source": [
    "### Priority Queues with Binary\n",
    "- 优先队列(Priority Queues)\n",
    "- 不同于先进先出，优先队列是按照优先级进行进出\n",
    "- 通过列表实现优先队列，插入的复杂度为$O(n)$，排序的复杂度为$O(nlogn)$\n",
    "- 经典的实现方式是通过二叉堆(Binary heap),入队和出队的复杂度为$O(logn)$\n",
    "- 在图形表示上，堆和树的结构很相似，但在实现过程中，我们只使用一个列表。不像二叉树一样需要左子树和右子树两个。\n",
    "- 堆分为小顶堆和大顶堆\n",
    "- 小顶堆，每个顶部元素都小于子叶元素\n",
    "- 大顶堆，每个顶部元素都大于子叶元素"
   ]
  },
  {
   "cell_type": "code",
   "execution_count": 2,
   "metadata": {
    "collapsed": true
   },
   "outputs": [],
   "source": [
    "class BinHeap:\n",
    "    def __init__(self):\n",
    "        self.heapList = [0]\n",
    "        self.currentSize = 0\n",
    "\n",
    "\n",
    "    def buildHeap(self,alist):\n",
    "        i = len(alist) // 2\n",
    "        self.currentSize = len(alist)\n",
    "        self.heapList = [0] + alist[:]\n",
    "        print(len(self.heapList), i)\n",
    "        while (i > 0):\n",
    "            print(self.heapList, i)\n",
    "            self.percDown(i)\n",
    "            i = i - 1\n",
    "        print(self.heapList,i)\n",
    "                        \n",
    "    def percDown(self,i):\n",
    "        while (i * 2) <= self.currentSize:\n",
    "            mc = self.minChild(i)\n",
    "            if self.heapList[i] > self.heapList[mc]:\n",
    "                tmp = self.heapList[i]\n",
    "                self.heapList[i] = self.heapList[mc]\n",
    "                self.heapList[mc] = tmp\n",
    "            i = mc\n",
    "                \n",
    "    def minChild(self,i):\n",
    "        if i * 2 + 1 > self.currentSize:\n",
    "            return i * 2\n",
    "        else:\n",
    "            if self.heapList[i * 2] < self.heapList[i * 2 + 1]:\n",
    "                return i * 2\n",
    "            else:\n",
    "                return i * 2 + 1\n",
    "\n",
    "    def percUp(self,i):\n",
    "        while i // 2 > 0:\n",
    "            if self.heapList[i] < self.heapList[i//2]:\n",
    "               tmp = self.heapList[i // 2]\n",
    "               self.heapList[i // 2] = self.heapList[i]\n",
    "               self.heapList[i] = tmp\n",
    "            i = i // 2\n",
    " \n",
    "    def insert(self,k):\n",
    "        self.heapList.append(k)\n",
    "        self.currentSize = self.currentSize + 1\n",
    "        self.percUp(self.currentSize)\n",
    "\n",
    "    def delMin(self):\n",
    "        retval = self.heapList[1]\n",
    "        self.heapList[1] = self.heapList[self.currentSize]\n",
    "        self.currentSize = self.currentSize - 1\n",
    "        self.heapList.pop()\n",
    "        self.percDown(1)\n",
    "        return retval\n",
    "        \n",
    "    def isEmpty(self):\n",
    "        if currentSize == 0:\n",
    "            return True\n",
    "        else:\n",
    "            return False"
   ]
  },
  {
   "cell_type": "code",
   "execution_count": 3,
   "metadata": {
    "collapsed": false
   },
   "outputs": [
    {
     "name": "stdout",
     "output_type": "stream",
     "text": [
      "3\n",
      "5\n",
      "7\n",
      "11\n"
     ]
    }
   ],
   "source": [
    "bh = BinHeap()\n",
    "bh.insert(5)\n",
    "bh.insert(7)\n",
    "bh.insert(3)\n",
    "bh.insert(11)\n",
    "\n",
    "print(bh.delMin())\n",
    "\n",
    "print(bh.delMin())\n",
    "\n",
    "print(bh.delMin())\n",
    "\n",
    "print(bh.delMin())"
   ]
  },
  {
   "cell_type": "markdown",
   "metadata": {},
   "source": [
    "### 平衡二叉树(Balanced binary tree)\n",
    "### 完全二叉树(Complete binary tree)\n",
    "\n",
    "- 叶节点只能出现在最下层和次下层\n",
    "- 最下面一层的结点都集中在该层最左边的若干位置的二叉树\n",
    "- 可以通过一个单一列表表示，因为节点之间有特定的线性关系\n",
    "- 如果节点的位置为在列表中为p,则它的左叶子的位置为2p,右叶子的位置为2p+1\n",
    "![](./images/heapOrder.png)"
   ]
  },
  {
   "cell_type": "markdown",
   "metadata": {},
   "source": [
    "### 步骤：\n",
    "- 初始化堆列表和当前索引\n",
    "- 插入新元素，如果直接向列表末尾添加，\n",
    "  则符合完成二叉树的性质，但是会违背堆的性质(因为堆满足顶元素和子叶元素的大小关系)\n",
    "  可以通过比较和交换来实现堆。定义一个向上过滤函数来实现小元素的上移，即通过交换顶部元素和子叶元素实现\n",
    "- 对于小顶堆而言，找到一簇元素中的最小值很容易，\n",
    "    难的是在移除最小的顶之后，恢复到堆的性质。我们可以\n",
    "    通过两个步骤实现。首先，我们将堆列表中的最后一个元素移到\n",
    "    堆顶（这样做是为了保持完全二叉树的结构）。然后将这个堆顶\n",
    "    元素通过向下过滤的方法，移至合适的位置。\n",
    "    \n",
    "    \n",
    "<img src=\"./images/percDown.png\" width = \"300\" height = \"100\" alt=\"树的分级\" align=center />\n",
    "\n",
    "![](./images/buildheap.png)\n"
   ]
  },
  {
   "cell_type": "code",
   "execution_count": null,
   "metadata": {
    "collapsed": true
   },
   "outputs": [],
   "source": [
    "class BinHeap:\n",
    "    #Step1 初始化堆列表和当前索引\n",
    "    def __init__(self):\n",
    "        self.heapList = [0]\n",
    "        self.currentSize = 0\n",
    "    #Step2 插入新元素，如果直接向列表末尾添加，\n",
    "    #则符合完成二叉树的性质，但是会违背堆的性质\n",
    "    #(因为堆满足顶元素和子叶元素的大小关系)\n",
    "    #可以通过比较和交换来实现堆\n",
    "    #定义一个向上过滤函数来实现小元素的上移，即\n",
    "    #通过交换顶部元素和子叶元素实现\n",
    "    def percUp(self,i):\n",
    "        while i // 2 > 0:\n",
    "            if self.heapList[i] < self.heapList[1 // 2]:\n",
    "                self.heapList[i // 2],self.heapList[i] = self.heapList[i],self.heapList[i // 2]\n",
    "            i = i // 2\n",
    "    def insert(self,k):\n",
    "        self.heapList.append(k)\n",
    "        self.currentSize = self.currentSize + 1\n",
    "        self.percUp(self.currentSize)\n",
    "    #对于小顶堆而言，找到一簇元素中的最小值很容易，\n",
    "    #难的是在移除最小的顶之后，恢复到堆的性质。我们可以\n",
    "    #通过两个步骤实现。首先，我们将堆列表中的最后一个元素移到\n",
    "    #堆顶（这样做是为了保持完全二叉树的结构）。然后将这个堆顶\n",
    "    #元素通过向下过滤的方法，移至合适的位置。\n",
    "    def percDown(self,i):\n",
    "        while (i * 2) <= self.currentSize:\n",
    "            mc = self.minChild(i)\n",
    "        if self.heapList[i] > self.heapList[mc]:\n",
    "            self.heapList[i],self.heapList[mc] = \\\n",
    "            self.heapList[mc],self.heapList[i]\n",
    "        i = mc \n",
    "    def minChild(self,i):\n",
    "        if i * 2 + 1 > self.currentSize:\n",
    "            return i * 2\n",
    "        else:\n",
    "            if self.heapList[i*2] < self.heapList[i*2+1]:\n",
    "                return i * 2\n",
    "            else:\n",
    "                return i * 2 + 1\n",
    "\n",
    "            \n",
    "    def delMin(self):\n",
    "        retval = self.heapList[1]\n",
    "        self.heapList[1] = self.heapList[self.currentSize]\n",
    "        self.currentSize = self.currentSize - 1\n",
    "        self.heapList.pop()\n",
    "        self.percDown(1)\n",
    "        return retval\n",
    "    \n",
    "    def buildHeap(self,alist):\n",
    "        i = len(alist) // 2\n",
    "        self.currentSize = len(alist)\n",
    "        self.heapList = [0] + alist[:]\n",
    "        while (i > 0):\n",
    "            self.percDown(i)\n",
    "            i -= 1\n",
    "     "
   ]
  }
 ],
 "metadata": {
  "anaconda-cloud": {},
  "kernelspec": {
   "display_name": "Python [default]",
   "language": "python",
   "name": "python3"
  },
  "language_info": {
   "codemirror_mode": {
    "name": "ipython",
    "version": 3
   },
   "file_extension": ".py",
   "mimetype": "text/x-python",
   "name": "python",
   "nbconvert_exporter": "python",
   "pygments_lexer": "ipython3",
   "version": "3.5.2"
  }
 },
 "nbformat": 4,
 "nbformat_minor": 2
}
