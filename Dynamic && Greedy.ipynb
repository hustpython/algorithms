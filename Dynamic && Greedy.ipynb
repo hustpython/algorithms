{
 "cells": [
  {
   "cell_type": "code",
   "execution_count": 194,
   "metadata": {},
   "outputs": [
    {
     "name": "stdout",
     "output_type": "stream",
     "text": [
      "81\n"
     ]
    }
   ],
   "source": [
    "#割绳子，动态规划\n",
    "from math import *\n",
    "\n",
    "def partitionrope(n):\n",
    "    n +=1\n",
    "    if n<=3:\n",
    "       return 0 if n<2 else n-1\n",
    "    products = [i if i<=3 else 0 for i in range(n)]\n",
    "    for i in range(4,n):\n",
    "        max = 0 \n",
    "        #1<j<i/2是因为我们定义的products[0]=0,显然对于乘法取最大是没有贡献的\n",
    "        #i/2是为了避免重复的计算比如[0,1,2,3],在保持i+i-j=i=4的前提下我们只应该计算1*3和2*2，无需计算3*1\n",
    "        for j in range(1,int(floor(i/2))+1):\n",
    "            #f(i)=max[f(j)*f(i-j)]\n",
    "            product = products[j]*products[i-j]\n",
    "\n",
    "            if max<product:\n",
    "                max = product\n",
    "            products[i]=max\n",
    "\n",
    "    max = products[n-1]\n",
    "    return max\n",
    "        \n",
    "print(partitionrope(12))\n",
    "    "
   ]
  },
  {
   "cell_type": "code",
   "execution_count": 166,
   "metadata": {},
   "outputs": [
    {
     "name": "stdout",
     "output_type": "stream",
     "text": [
      "6377292.0\n"
     ]
    }
   ],
   "source": [
    "#贪婪算法\n",
    "from math import *\n",
    "\n",
    "def greedyrope(n):\n",
    "    #n = n+1\n",
    "    if n<=3:\n",
    "       return 0 if n<2 else n-1\n",
    "    timeof3,modof3 = divmod(n,3)\n",
    "    if modof3 == 1:\n",
    "       timeof3 -=1\n",
    "    timeof2,modof2 = divmod(n-timeof3*3,2)\n",
    "    return pow(3,timeof3)*pow(2,timeof2)\n",
    "print(greedyrope(43))"
   ]
  },
  {
   "cell_type": "code",
   "execution_count": 244,
   "metadata": {},
   "outputs": [
    {
     "name": "stdout",
     "output_type": "stream",
     "text": [
      "[10, 20]\n"
     ]
    }
   ],
   "source": [
    "#背包问题\n",
    "import numpy as np\n",
    "\n",
    "def knapsack(p,w,W):\n",
    "    p = np.array(p)\n",
    "    w = np.array(w)\n",
    "    sortedindex = np.argsort(p/w)[::-1]\n",
    "    load = 0\n",
    "    load_list = []\n",
    "    w = w[sortedindex]\n",
    "    for temp_w in w:\n",
    "        if load>W:\n",
    "            return load_list[:-1]\n",
    "        load += temp_w\n",
    "        load_list.append(temp_w)\n",
    "        \n",
    "    return load_list\n",
    "\n",
    "W = 50\n",
    "p = [60,120,40,100,30]\n",
    "w = [10,30,20,20,10]\n",
    "print(knapsack(p,w,W))"
   ]
  },
  {
   "cell_type": "code",
   "execution_count": 255,
   "metadata": {},
   "outputs": [
    {
     "name": "stdout",
     "output_type": "stream",
     "text": [
      "[10, 20, 20]\n"
     ]
    }
   ],
   "source": [
    "#背包问题，可拆分情况\n",
    "import numpy as np\n",
    "\n",
    "def knapsackable(p,w,W):\n",
    "    p = np.array(p)\n",
    "    w = np.array(w)\n",
    "    sortedindex = np.argsort(p/w)[::-1]\n",
    "    load = 0\n",
    "    load_list = []\n",
    "    w = w[sortedindex]\n",
    "    for temp_w in w:\n",
    "        if load>=W:\n",
    "            return load_list\n",
    "        if temp_w <= W-load:\n",
    "            load += temp_w\n",
    "            load_list.append(temp_w)\n",
    "        else:\n",
    "            load_list.append(W-load)\n",
    "            load = W\n",
    "        \n",
    "    return load_list\n",
    "\n",
    "W = 50\n",
    "p = [60,120,40,100,30]\n",
    "w = [10,30,20,20,10]\n",
    "print(knapsackable(p,w,W))"
   ]
  },
  {
   "cell_type": "code",
   "execution_count": 70,
   "metadata": {},
   "outputs": [
    {
     "name": "stdout",
     "output_type": "stream",
     "text": [
      "[ 0  2  4  3  6  8  9 10 11 12 13 15]\n",
      "[ 3  5  7  8 10 10 11 13 15 15 17 18]\n",
      "set([0, 2, 5, 7, 10])\n"
     ]
    }
   ],
   "source": [
    "#教室规划\n",
    "#课程顺序已经按照课程结束时间从小到大排序\n",
    "#============================================\n",
    "# i   | 1 2 3 4 5  6  7   8   9  10  11  12 #\n",
    "# si  | 0 2 4 3 6  8  9   11  12 10  13  15 #\n",
    "#fi   | 3 5 7 8 10 10 11  15  15 13  17 18  #\n",
    "#============================================\n",
    "import numpy as np\n",
    "def coursescheduler(s,f,i,n):\n",
    "    m = i+1\n",
    "    while m<n and s[m]<f[i]:\n",
    "        m += 1\n",
    "    if m < n:\n",
    "        return set([m])|coursescheduler(s,f,m,n)|set([0])\n",
    "    else:\n",
    "        return set([])\n",
    "s = np.array([0,2,4,3,6,8,9,11,12,10,13,15])\n",
    "f = np.array([3,5,7,8,10,10,11,15,15,13,17,18])\n",
    "indexof = np.argsort(f)\n",
    "s = s[indexof]\n",
    "print(s)\n",
    "f = np.sort(f)\n",
    "print(f)\n",
    "n = len(s)\n",
    "i = 0\n",
    "print(coursescheduler(s,f,i,n))"
   ]
  },
  {
   "cell_type": "code",
   "execution_count": 73,
   "metadata": {},
   "outputs": [
    {
     "name": "stdout",
     "output_type": "stream",
     "text": [
      "[('1', '2', 1), ('1', '4', 2), ('5', '6', 4), ('3', '6', 5), ('2', '3', 6)]\n"
     ]
    }
   ],
   "source": [
    "#kruskal实现最小生成树\n",
    "from operator import itemgetter\n",
    "class DisjointSet(dict):\n",
    "    def add(self, item):\n",
    "        self[item] = item\n",
    " \n",
    "    def find(self, item):\n",
    "        parent = self[item]\n",
    " \n",
    "        while self[parent] != parent:\n",
    "            parent = self[parent]\n",
    " \n",
    "        self[item] = parent\n",
    "        return parent\n",
    " \n",
    "    def union(self, item1, item2):\n",
    "        self[item2] = self[item1]\n",
    " \n",
    "def kruskal( nodes, edges ):\n",
    "    forest = DisjointSet()\n",
    "    mst = []\n",
    "    for n in nodes:\n",
    "        forest.add( n )\n",
    "\n",
    "    sz = len(nodes) - 1\n",
    "\n",
    "    for e in sorted( edges, key=itemgetter( 2 ) ):\n",
    "        n1, n2, _ = e\n",
    "        t1 = forest.find(n1)\n",
    "        t2 = forest.find(n2)\n",
    "        if t1 != t2:\n",
    "            mst.append(e)\n",
    "            sz -= 1\n",
    "            if sz == 0:\n",
    "                return mst\n",
    "\n",
    "            forest.union(t1, t2)\n",
    "#Test\n",
    "nodes = list( \"123456\" )\n",
    "edges = [ (\"1\", \"2\", 1), (\"1\", \"4\", 2),\n",
    "          (\"2\", \"4\", 4), (\"2\", \"3\", 6), (\"2\", \"5\", 7),\n",
    "      (\"3\", \"6\", 5),\n",
    "      (\"5\", \"6\", 4), (\"4\", \"5\", 9),[\"3\",\"5\",8]]\n",
    " \n",
    "print kruskal( nodes, edges )"
   ]
  }
 ],
 "metadata": {
  "kernelspec": {
   "display_name": "Python 2",
   "language": "python",
   "name": "python2"
  }
 },
 "nbformat": 4,
 "nbformat_minor": 2
}
